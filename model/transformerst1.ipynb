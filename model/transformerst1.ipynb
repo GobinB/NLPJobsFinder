{
 "cells": [
  {
   "cell_type": "code",
   "execution_count": 2,
   "metadata": {},
   "outputs": [
    {
     "name": "stderr",
     "output_type": "stream",
     "text": [
      "/home/ahmedabdullahi/anaconda3/envs/tf_env/lib/python3.9/site-packages/tqdm/auto.py:21: TqdmWarning: IProgress not found. Please update jupyter and ipywidgets. See https://ipywidgets.readthedocs.io/en/stable/user_install.html\n",
      "  from .autonotebook import tqdm as notebook_tqdm\n",
      "2024-12-04 17:06:10.942840: I tensorflow/core/util/port.cc:153] oneDNN custom operations are on. You may see slightly different numerical results due to floating-point round-off errors from different computation orders. To turn them off, set the environment variable `TF_ENABLE_ONEDNN_OPTS=0`.\n",
      "2024-12-04 17:06:11.118664: E external/local_xla/xla/stream_executor/cuda/cuda_fft.cc:477] Unable to register cuFFT factory: Attempting to register factory for plugin cuFFT when one has already been registered\n",
      "WARNING: All log messages before absl::InitializeLog() is called are written to STDERR\n",
      "E0000 00:00:1733349971.215900 1585461 cuda_dnn.cc:8310] Unable to register cuDNN factory: Attempting to register factory for plugin cuDNN when one has already been registered\n",
      "E0000 00:00:1733349971.234640 1585461 cuda_blas.cc:1418] Unable to register cuBLAS factory: Attempting to register factory for plugin cuBLAS when one has already been registered\n",
      "2024-12-04 17:06:11.391951: I tensorflow/core/platform/cpu_feature_guard.cc:210] This TensorFlow binary is optimized to use available CPU instructions in performance-critical operations.\n",
      "To enable the following instructions: AVX2 AVX512F AVX512_VNNI FMA, in other operations, rebuild TensorFlow with the appropriate compiler flags.\n"
     ]
    }
   ],
   "source": [
    "import pandas as pd\n",
    "from datasets import Dataset\n",
    "from transformers import AutoTokenizer, AutoModelForTokenClassification, TrainingArguments, Trainer\n",
    "from transformers import DataCollatorForTokenClassification\n",
    "from transformers import pipeline\n",
    "from sklearn.model_selection import train_test_split\n",
    "from transformers import AutoTokenizer, AutoModelForTokenClassification\n",
    "import numpy as np\n",
    "import torch"
   ]
  },
  {
   "cell_type": "code",
   "execution_count": 3,
   "metadata": {},
   "outputs": [],
   "source": [
    "\n",
    "\n",
    "# Load the dataset\n",
    "file_path = '/home/ahmedabdullahi/NLP590/NLPJobsFinder/Data/traindataset.csv'  # Replace with your file path\n",
    "training_data = pd.read_csv(file_path)\n",
    "\n",
    "# Prepare data for Transformers\n",
    "def prepare_data_for_transformers(data):\n",
    "    \"\"\"\n",
    "    Converts the dataframe into a format suitable for Transformers.\n",
    "    Groups tokens and labels by sentence.\n",
    "    \"\"\"\n",
    "    sentences = []\n",
    "    labels = []\n",
    "    current_sentence = []\n",
    "    current_labels = []\n",
    "\n",
    "    label_to_id = {label: idx for idx, label in enumerate(data['Label'].unique())}\n",
    "    id_to_label = {idx: label for label, idx in label_to_id.items()}\n",
    "\n",
    "    for _, row in data.iterrows():\n",
    "        token, label = row['Token'], row['Label']\n",
    "        current_sentence.append(token)\n",
    "        current_labels.append(label_to_id[label])\n",
    "\n",
    "        # Simulate end of sentence\n",
    "        if token.endswith('.') or len(current_sentence) >= 10:\n",
    "            sentences.append(current_sentence)\n",
    "            labels.append(current_labels)\n",
    "            current_sentence = []\n",
    "            current_labels = []\n",
    "\n",
    "    if current_sentence:\n",
    "        sentences.append(current_sentence)\n",
    "        labels.append(current_labels)\n",
    "\n",
    "    return sentences, labels, label_to_id, id_to_label\n",
    "\n",
    "sentences, labels, label_to_id, id_to_label = prepare_data_for_transformers(training_data)\n",
    "\n"
   ]
  },
  {
   "cell_type": "code",
   "execution_count": 4,
   "metadata": {},
   "outputs": [],
   "source": [
    "# Split into train and test datasets\n",
    "train_sentences, test_sentences, train_labels, test_labels = train_test_split(\n",
    "    sentences, labels, test_size=0.5, random_state=42\n",
    ")"
   ]
  },
  {
   "cell_type": "code",
   "execution_count": 5,
   "metadata": {},
   "outputs": [
    {
     "name": "stderr",
     "output_type": "stream",
     "text": [
      "Some weights of the model checkpoint at dbmdz/bert-large-cased-finetuned-conll03-english were not used when initializing BertForTokenClassification: ['bert.pooler.dense.bias', 'bert.pooler.dense.weight']\n",
      "- This IS expected if you are initializing BertForTokenClassification from the checkpoint of a model trained on another task or with another architecture (e.g. initializing a BertForSequenceClassification model from a BertForPreTraining model).\n",
      "- This IS NOT expected if you are initializing BertForTokenClassification from the checkpoint of a model that you expect to be exactly identical (initializing a BertForSequenceClassification model from a BertForSequenceClassification model).\n",
      "/home/ahmedabdullahi/anaconda3/envs/tf_env/lib/python3.9/site-packages/transformers/training_args.py:1568: FutureWarning: `evaluation_strategy` is deprecated and will be removed in version 4.46 of 🤗 Transformers. Use `eval_strategy` instead\n",
      "  warnings.warn(\n"
     ]
    }
   ],
   "source": [
    "# Load pre-trained tokenizer and model\n",
    "model_name = \"dbmdz/bert-large-cased-finetuned-conll03-english\"\n",
    "tokenizer = AutoTokenizer.from_pretrained(model_name)\n",
    "model = AutoModelForTokenClassification.from_pretrained(model_name)\n",
    "\n",
    "def tokenize_and_align_labels(sentences, labels):\n",
    "    \"\"\"\n",
    "    Tokenizes input sentences and aligns labels with tokenized output.\n",
    "    \"\"\"\n",
    "    tokenized_inputs = tokenizer(\n",
    "        sentences,\n",
    "        truncation=True,\n",
    "        padding=True,\n",
    "        is_split_into_words=True,\n",
    "        return_tensors=\"pt\"\n",
    "    )\n",
    "\n",
    "    aligned_labels = []\n",
    "    for i, label in enumerate(labels):\n",
    "        word_ids = tokenized_inputs.word_ids(batch_index=i)\n",
    "        aligned_label = []\n",
    "        previous_word_id = None\n",
    "        for word_id in word_ids:\n",
    "            if word_id is None:\n",
    "                aligned_label.append(-100)  # Ignore these tokens\n",
    "            elif word_id != previous_word_id:  # Only label the first subword\n",
    "                aligned_label.append(label[word_id])\n",
    "            else:\n",
    "                aligned_label.append(-100)  # Ignore subsequent subword tokens\n",
    "            previous_word_id = word_id\n",
    "        aligned_labels.append(aligned_label)\n",
    "\n",
    "    tokenized_inputs[\"labels\"] = torch.tensor(aligned_labels)\n",
    "    return tokenized_inputs\n",
    "\n",
    "\n",
    "# Tokenize and align labels (use your existing tokenize_and_align_labels function)\n",
    "train_inputs = tokenize_and_align_labels(train_sentences, train_labels)\n",
    "test_inputs = tokenize_and_align_labels(test_sentences, test_labels)\n",
    "\n",
    "# Prepare Hugging Face datasets\n",
    "from datasets import Dataset\n",
    "train_dataset = Dataset.from_dict(train_inputs)\n",
    "test_dataset = Dataset.from_dict(test_inputs)\n",
    "\n",
    "# Training Arguments\n",
    "from transformers import TrainingArguments, Trainer\n",
    "training_args = TrainingArguments(\n",
    "    output_dir=\"./results\",\n",
    "    evaluation_strategy=\"epoch\",\n",
    "    learning_rate=2e-5,\n",
    "    per_device_train_batch_size=16,\n",
    "    per_device_eval_batch_size=16,\n",
    "    num_train_epochs=5,\n",
    "    weight_decay=0.01,\n",
    "    save_strategy=\"epoch\",\n",
    "    logging_dir=\"./logs\",\n",
    "    logging_steps=10,\n",
    ")\n",
    "\n",
    "# Trainer setup\n",
    "from transformers import DataCollatorForTokenClassification\n",
    "data_collator = DataCollatorForTokenClassification(tokenizer)\n"
   ]
  },
  {
   "cell_type": "code",
   "execution_count": 6,
   "metadata": {},
   "outputs": [],
   "source": [
    "import evaluate\n",
    "\n",
    "# Load the seqeval metric\n",
    "metric = evaluate.load(\"seqeval\")\n",
    "\n",
    "def compute_metrics(pred):\n",
    "    predictions, labels = pred\n",
    "    predictions = np.argmax(predictions, axis=2)\n",
    "\n",
    "    # Remove ignored index (-100) and align predictions with true labels\n",
    "    true_labels = [\n",
    "        [id_to_label[label] for label in label_row if label != -100]\n",
    "        for label_row in labels\n",
    "    ]\n",
    "    true_predictions = [\n",
    "        [id_to_label[pred] for (pred, label) in zip(pred_row, label_row) if label != -100]\n",
    "        for pred_row, label_row in zip(predictions, labels)\n",
    "    ]\n",
    "\n",
    "    # Compute the metrics\n",
    "    results = metric.compute(predictions=true_predictions, references=true_labels)\n",
    "    return {\n",
    "        \"precision\": results[\"overall_precision\"],\n",
    "        \"recall\": results[\"overall_recall\"],\n",
    "        \"f1\": results[\"overall_f1\"],\n",
    "        \"accuracy\": results[\"overall_accuracy\"],\n",
    "    }\n"
   ]
  },
  {
   "cell_type": "code",
   "execution_count": 7,
   "metadata": {},
   "outputs": [
    {
     "name": "stderr",
     "output_type": "stream",
     "text": [
      "/tmp/ipykernel_1585461/2674497367.py:22: FutureWarning: `tokenizer` is deprecated and will be removed in version 5.0.0 for `Trainer.__init__`. Use `processing_class` instead.\n",
      "  trainer = Trainer(\n"
     ]
    }
   ],
   "source": [
    "\n",
    "\n",
    "# Training arguments\n",
    "training_args = TrainingArguments(\n",
    "    output_dir=\"./results\",\n",
    "    evaluation_strategy=\"steps\",       # Evaluate more frequently\n",
    "    eval_steps=500,                    # Evaluation every 500 steps\n",
    "    learning_rate=1e-5,                # Lower learning rate\n",
    "    per_device_train_batch_size=8,     # Smaller batch size for finer updates\n",
    "    per_device_eval_batch_size=8,      # Smaller eval batch size\n",
    "    num_train_epochs=5,                # More epochs for better learning\n",
    "    weight_decay=0.01,                 # Regularization\n",
    "    save_strategy=\"steps\",             # Save best model during training\n",
    "    save_steps=500,                    # Save every 500 steps\n",
    "    logging_dir=\"./logs\",\n",
    "    logging_steps=100,                 # Log progress more frequently\n",
    "    load_best_model_at_end=True,       # Automatically load best model\n",
    "    metric_for_best_model=\"eval_loss\", # Monitor eval loss for \"best\"\n",
    "    greater_is_better=False            # Lower loss is better\n",
    ")\n",
    "\n",
    "\n",
    "# Trainer\n",
    "trainer = Trainer(\n",
    "    model=model,\n",
    "    args=training_args,\n",
    "    train_dataset=train_dataset,\n",
    "    eval_dataset=test_dataset,\n",
    "    tokenizer=tokenizer,\n",
    "    data_collator=data_collator,\n",
    "    compute_metrics=compute_metrics,  # Function to calculate F1-score, precision, recall\n",
    "\n",
    ")\n",
    "\n"
   ]
  },
  {
   "cell_type": "code",
   "execution_count": 9,
   "metadata": {},
   "outputs": [
    {
     "name": "stderr",
     "output_type": "stream",
     "text": [
      "                                               \n",
      "100%|██████████| 70/70 [10:15<00:00,  8.79s/it]"
     ]
    },
    {
     "name": "stdout",
     "output_type": "stream",
     "text": [
      "{'train_runtime': 615.5294, 'train_samples_per_second': 0.853, 'train_steps_per_second': 0.114, 'train_loss': 1.002686527797154, 'epoch': 5.0}\n"
     ]
    },
    {
     "name": "stderr",
     "output_type": "stream",
     "text": [
      "\n"
     ]
    },
    {
     "data": {
      "text/plain": [
       "TrainOutput(global_step=70, training_loss=1.002686527797154, metrics={'train_runtime': 615.5294, 'train_samples_per_second': 0.853, 'train_steps_per_second': 0.114, 'total_flos': 35235471640950.0, 'train_loss': 1.002686527797154, 'epoch': 5.0})"
      ]
     },
     "execution_count": 9,
     "metadata": {},
     "output_type": "execute_result"
    }
   ],
   "source": [
    "# Train the model\n",
    "trainer.train()"
   ]
  },
  {
   "cell_type": "code",
   "execution_count": 10,
   "metadata": {},
   "outputs": [
    {
     "name": "stderr",
     "output_type": "stream",
     "text": [
      "28it [11:33, 24.78s/it]                        "
     ]
    },
    {
     "name": "stdout",
     "output_type": "stream",
     "text": [
      "Precision: 0.99\n",
      "Recall: 0.99\n",
      "F1-score: 0.99\n",
      "Accuracy: 0.99\n"
     ]
    },
    {
     "name": "stderr",
     "output_type": "stream",
     "text": [
      "\n"
     ]
    }
   ],
   "source": [
    "results = trainer.evaluate()\n",
    "print(f\"Precision: {results['eval_precision']:.2f}\")\n",
    "print(f\"Recall: {results['eval_recall']:.2f}\")\n",
    "print(f\"F1-score: {results['eval_f1']:.2f}\")\n",
    "print(f\"Accuracy: {results['eval_accuracy']:.2f}\")\n"
   ]
  },
  {
   "cell_type": "code",
   "execution_count": 13,
   "metadata": {},
   "outputs": [
    {
     "name": "stdout",
     "output_type": "stream",
     "text": [
      "Model saved to 'ner_model1/'.\n"
     ]
    }
   ],
   "source": [
    "\n",
    "# Save the model and tokenizer\n",
    "model.save_pretrained(\"ner_model1\")\n",
    "tokenizer.save_pretrained(\"ner_model1\")\n",
    "print(\"Model saved to 'ner_model1/'.\")\n",
    "\n"
   ]
  },
  {
   "cell_type": "code",
   "execution_count": 23,
   "metadata": {},
   "outputs": [
    {
     "name": "stdout",
     "output_type": "stream",
     "text": [
      "\n",
      "Predictions:\n",
      "{'entity_group': 'LOC', 'score': np.float32(0.3942915), 'word': 'India', 'start': 17, 'end': 22}\n",
      "{'entity_group': 'PER', 'score': np.float32(0.44366944), 'word': 'Ohio', 'start': 23, 'end': 27}\n",
      "{'entity_group': 'MISC', 'score': np.float32(0.92090696), 'word': 'States', 'start': 28, 'end': 34}\n"
     ]
    }
   ],
   "source": [
    "# Load the model and use it for inference\n",
    "ner_pipeline = pipeline(\"ner\", model=\"ner_model1\", tokenizer=\"ner_model1\", aggregation_strategy=\"simple\")\n",
    "\n",
    "# Test on new input\n",
    "input_text = \"This company is  India Ohio States in remote description: work from home Series of 2 interviews first on soft skills.\"\n",
    "predictions = ner_pipeline(input_text)\n",
    "\n",
    "print(\"\\nPredictions:\")\n",
    "for entity in predictions:\n",
    "    print(entity)"
   ]
  }
 ],
 "metadata": {
  "kernelspec": {
   "display_name": "tf_env",
   "language": "python",
   "name": "python3"
  },
  "language_info": {
   "codemirror_mode": {
    "name": "ipython",
    "version": 3
   },
   "file_extension": ".py",
   "mimetype": "text/x-python",
   "name": "python",
   "nbconvert_exporter": "python",
   "pygments_lexer": "ipython3",
   "version": "3.9.20"
  }
 },
 "nbformat": 4,
 "nbformat_minor": 2
}
