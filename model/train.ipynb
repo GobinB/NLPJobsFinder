{
 "cells": [
  {
   "cell_type": "code",
   "execution_count": null,
   "metadata": {},
   "outputs": [],
   "source": [
    "import pandas as pd\n",
    "import numpy as np\n",
    "from sklearn.model_selection import train_test_split\n",
    "from sklearn.preprocessing import MinMaxScaler\n",
    "import tensorflow as tf\n",
    "from transformers import BertTokenizer, TFBertModel\n",
    "from transformers import DistilBertTokenizer, TFDistilBertModel\n",
    "import json\n"
   ]
  },
  {
   "cell_type": "code",
   "execution_count": null,
   "metadata": {},
   "outputs": [],
   "source": [
    "# Step 1: Load and Preprocess Data\n",
    "data = pd.read_csv('/home/ahmedabdullahi/NLP590/NLPJobsFinder/Data/modelData.csv')\n",
    "\n",
    "# Normalize text fields\n",
    "data['city'] = data['city'].str.lower()\n",
    "data['country'] = data['country'].str.lower()\n",
    "\n",
    "# Encode categorical fields\n",
    "capital_map = {'primary': 1, 'admin': 0.5, 'minor': 0.2, '': 0}\n",
    "data['capital'] = data['capital'].map(capital_map)\n",
    "\n",
    "# Normalize numeric fields\n",
    "scaler = MinMaxScaler()\n",
    "data[['lat', 'lng', 'population']] = scaler.fit_transform(data[['lat', 'lng', 'population']])\n",
    "\n"
   ]
  },
  {
   "cell_type": "code",
   "execution_count": null,
   "metadata": {},
   "outputs": [],
   "source": [
    "# Tokenizer\n",
    "#tokenizer = BertTokenizer.from_pretrained('bert-base-uncased')\n",
    "bert_model = TFDistilBertModel.from_pretrained('distilbert-base-uncased')\n",
    "\n",
    "def encode_text(text_series):\n",
    "    return tokenizer(\n",
    "        text_series.tolist(), \n",
    "        padding='max_length', \n",
    "        max_length=16, \n",
    "        truncation=True, \n",
    "        return_tensors=\"np\"\n",
    "    )\n"
   ]
  },
  {
   "cell_type": "code",
   "execution_count": null,
   "metadata": {},
   "outputs": [],
   "source": [
    "\n",
    "# Encode text fields\n",
    "city_encodings = encode_text(data['city'])\n",
    "country_encodings = encode_text(data['country'])\n",
    "\n",
    "# Extract inputs\n",
    "X_city = city_encodings['input_ids']\n",
    "X_country = country_encodings['input_ids']\n",
    "X_numeric = data[['lat', 'lng', 'population']].values\n",
    "\n",
    "# Example binary labels (modify this for your task)\n",
    "labels = np.random.randint(0, 2, size=(len(data)))\n",
    "\n",
    "# Train-test split\n",
    "X_city_train, X_city_val, X_country_train, X_country_val, X_numeric_train, X_numeric_val, y_train, y_val = train_test_split(\n",
    "    X_city, X_country, X_numeric, labels, test_size=0.2, random_state=42\n",
    ")"
   ]
  },
  {
   "cell_type": "code",
   "execution_count": null,
   "metadata": {},
   "outputs": [],
   "source": [
    "\n",
    "# Step 2: Build the Model\n",
    "bert_model = TFBertModel.from_pretrained('bert-base-uncased')\n",
    "\n",
    "# Inputs\n",
    "input_city = tf.keras.Input(shape=(32,), dtype=tf.int32, name='city_input')\n",
    "input_country = tf.keras.Input(shape=(32,), dtype=tf.int32, name='country_input')\n",
    "input_numeric = tf.keras.Input(shape=(3,), name='numeric_input')\n",
    "\n",
    "# Text feature extraction\n",
    "city_features = bert_model(input_city).last_hidden_state\n",
    "city_features = tf.keras.layers.GlobalAveragePooling1D()(city_features)\n",
    "\n",
    "country_features = bert_model(input_country).last_hidden_state\n",
    "country_features = tf.keras.layers.GlobalAveragePooling1D()(country_features)\n",
    "\n",
    "# Merge features\n",
    "merged_features = tf.keras.layers.Concatenate()([city_features, country_features, input_numeric])\n",
    "\n",
    "# Dense layers\n",
    "dense = tf.keras.layers.Dense(128, activation='relu')(merged_features)\n",
    "output = tf.keras.layers.Dense(1, activation='sigmoid')(dense)\n",
    "\n",
    "model = tf.keras.Model(inputs=[input_city, input_country, input_numeric], outputs=output)\n",
    "\n",
    "# Compile model\n",
    "model.compile(optimizer=tf.keras.optimizers.Adam(learning_rate=2e-5),\n",
    "              loss='binary_crossentropy',\n",
    "              metrics=['accuracy'])"
   ]
  },
  {
   "cell_type": "code",
   "execution_count": null,
   "metadata": {},
   "outputs": [
    {
     "ename": "",
     "evalue": "",
     "output_type": "error",
     "traceback": [
      "\u001b[1;31mThe Kernel crashed while executing code in the current cell or a previous cell. \n",
      "\u001b[1;31mPlease review the code in the cell(s) to identify a possible cause of the failure. \n",
      "\u001b[1;31mClick <a href='https://aka.ms/vscodeJupyterKernelCrash'>here</a> for more info. \n",
      "\u001b[1;31mView Jupyter <a href='command:jupyter.viewOutput'>log</a> for further details."
     ]
    }
   ],
   "source": [
    "# Step 3: Train the Model\n",
    "history = model.fit(\n",
    "    [X_city_train, X_country_train, X_numeric_train],\n",
    "    y_train,\n",
    "    validation_data=([X_city_val, X_country_val, X_numeric_val], y_val),\n",
    "    epochs=3,\n",
    "    batch_size=64\n",
    ")\n"
   ]
  },
  {
   "cell_type": "code",
   "execution_count": null,
   "metadata": {},
   "outputs": [],
   "source": [
    "\n",
    "# Step 4: Save the Model\n",
    "model.save('location_nlp_model')\n",
    "tokenizer.save_pretrained('location_tokenizer')\n",
    "scaler_path = 'scaler.pkl'\n",
    "import joblib\n",
    "joblib.dump(scaler, scaler_path)"
   ]
  },
  {
   "cell_type": "code",
   "execution_count": null,
   "metadata": {},
   "outputs": [],
   "source": [
    "\n",
    "\n",
    "# Step 5: Load the Model and Use\n",
    "# Load the model\n",
    "loaded_model = tf.keras.models.load_model('location_nlp_model')\n",
    "loaded_tokenizer = BertTokenizer.from_pretrained('location_tokenizer')\n",
    "loaded_scaler = joblib.load(scaler_path)"
   ]
  },
  {
   "cell_type": "code",
   "execution_count": null,
   "metadata": {},
   "outputs": [],
   "source": [
    "\n",
    "\n",
    "\n",
    "\n",
    "\n",
    "# Example Usage\n",
    "def predict_location(city, country, lat, lng, population):\n",
    "    city_encoded = loaded_tokenizer(\n",
    "        city, padding='max_length', max_length=32, truncation=True, return_tensors=\"np\"\n",
    "    )['input_ids']\n",
    "    country_encoded = loaded_tokenizer(\n",
    "        country, padding='max_length', max_length=32, truncation=True, return_tensors=\"np\"\n",
    "    )['input_ids']\n",
    "    numeric_data = loaded_scaler.transform([[lat, lng, population]])\n",
    "    prediction = loaded_model.predict([city_encoded, country_encoded, numeric_data])\n",
    "    return prediction[0][0]\n",
    "\n",
    "# Example JSON Input\n",
    "example_json = {\n",
    "    \"city\": \"louisville\",\n",
    "    \"country\": \"usa\",\n",
    "    \"lat\": 38.2527,\n",
    "    \"lng\": -85.7585,\n",
    "    \"population\": 617638\n",
    "}\n",
    "\n",
    "# Predict\n",
    "predicted_value = predict_location(\n",
    "    example_json[\"city\"], \n",
    "    example_json[\"country\"], \n",
    "    example_json[\"lat\"], \n",
    "    example_json[\"lng\"], \n",
    "    example_json[\"population\"]\n",
    ")\n",
    "\n",
    "print(\"Predicted Value:\", predicted_value)"
   ]
  }
 ],
 "metadata": {
  "kernelspec": {
   "display_name": "590",
   "language": "python",
   "name": "python3"
  },
  "language_info": {
   "codemirror_mode": {
    "name": "ipython",
    "version": 3
   },
   "file_extension": ".py",
   "mimetype": "text/x-python",
   "name": "python",
   "nbconvert_exporter": "python",
   "pygments_lexer": "ipython3",
   "version": "3.12.4"
  }
 },
 "nbformat": 4,
 "nbformat_minor": 2
}
